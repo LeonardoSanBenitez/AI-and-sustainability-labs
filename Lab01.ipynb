{
 "cells": [
  {
   "cell_type": "code",
   "execution_count": 7,
   "id": "cf88c1b9-055f-4e50-af63-bfd6fcf18fc7",
   "metadata": {},
   "outputs": [
    {
     "name": "stdout",
     "output_type": "stream",
     "text": [
      "Reading package lists... Done\n",
      "Building dependency tree... Done\n",
      "Reading state information... Done\n",
      "Suggested packages:\n",
      "  zip\n",
      "The following NEW packages will be installed:\n",
      "  unzip\n",
      "0 upgraded, 1 newly installed, 0 to remove and 0 not upgraded.\n",
      "Need to get 175 kB of archives.\n",
      "After this operation, 386 kB of additional disk space will be used.\n",
      "Err:1 http://archive.ubuntu.com/ubuntu jammy-updates/main amd64 unzip amd64 6.0-26ubuntu3.2\n",
      "  Could not open file /var/cache/apt/archives/partial/unzip_6.0-26ubuntu3.2_amd64.deb - open (30: Read-only file system) [IP: 185.125.190.81 80]\n",
      "\u001b[1;33mW: \u001b[0mNot using locking for read only lock file /var/lib/dpkg/lock-frontend\u001b[0m\n",
      "\u001b[1;33mW: \u001b[0mNot using locking for read only lock file /var/lib/dpkg/lock\u001b[0m\n",
      "\u001b[1;33mW: \u001b[0mNot using locking for read only lock file /var/cache/apt/archives/lock\u001b[0m\n",
      "\u001b[1;33mW: \u001b[0mProblem unlinking the file /var/cache/apt/archives/partial/unzip_6.0-26ubuntu3.2_amd64.deb - PrepareFiles (30: Read-only file system)\u001b[0m\n",
      "\u001b[1;31mE: \u001b[0mFailed to fetch http://archive.ubuntu.com/ubuntu/pool/main/u/unzip/unzip_6.0-26ubuntu3.2_amd64.deb  Could not open file /var/cache/apt/archives/partial/unzip_6.0-26ubuntu3.2_amd64.deb - open (30: Read-only file system) [IP: 185.125.190.81 80]\u001b[0m\n",
      "\u001b[1;31mE: \u001b[0mUnable to fetch some archives, maybe run apt-get update or try with --fix-missing?\u001b[0m\n"
     ]
    }
   ],
   "source": [
    "!apt install unzip"
   ]
  },
  {
   "cell_type": "code",
   "execution_count": 1,
   "id": "40f16392-c8dc-4789-8df0-84ae7f508c47",
   "metadata": {},
   "outputs": [
    {
     "name": "stdout",
     "output_type": "stream",
     "text": [
      "Architecture:           x86_64\n",
      "  CPU op-mode(s):       32-bit, 64-bit\n",
      "  Address sizes:        46 bits physical, 48 bits virtual\n",
      "  Byte Order:           Little Endian\n",
      "CPU(s):                 48\n",
      "  On-line CPU(s) list:  0-47\n",
      "Vendor ID:              GenuineIntel\n",
      "  Model name:           Intel(R) Xeon(R) Gold 5118 CPU @ 2.30GHz\n",
      "    CPU family:         6\n",
      "    Model:              85\n",
      "    Thread(s) per core: 2\n",
      "    Core(s) per socket: 12\n",
      "    Socket(s):          2\n",
      "    Stepping:           4\n",
      "    CPU max MHz:        3200.0000\n",
      "    CPU min MHz:        1000.0000\n",
      "    BogoMIPS:           4600.00\n",
      "    Flags:              fpu vme de pse tsc msr pae mce cx8 apic sep mtrr pge mca\n",
      "                         cmov pat pse36 clflush dts acpi mmx fxsr sse sse2 ss ht\n",
      "                         tm pbe syscall nx pdpe1gb rdtscp lm constant_tsc art ar\n",
      "                        ch_perfmon pebs bts rep_good nopl xtopology nonstop_tsc \n",
      "                        cpuid aperfmperf pni pclmulqdq dtes64 monitor ds_cpl smx\n",
      "                         est tm2 ssse3 sdbg fma cx16 xtpr pdcm pcid dca sse4_1 s\n",
      "                        se4_2 x2apic movbe popcnt tsc_deadline_timer aes xsave a\n",
      "                        vx f16c rdrand lahf_lm abm 3dnowprefetch cpuid_fault epb\n",
      "                         cat_l3 cdp_l3 invpcid_single pti ssbd mba ibrs ibpb sti\n",
      "                        bp fsgsbase tsc_adjust bmi1 hle avx2 smep bmi2 erms invp\n",
      "                        cid rtm cqm mpx rdt_a avx512f avx512dq rdseed adx smap c\n",
      "                        lflushopt clwb intel_pt avx512cd avx512bw avx512vl xsave\n",
      "                        opt xsavec xgetbv1 xsaves cqm_llc cqm_occup_llc cqm_mbm_\n",
      "                        total cqm_mbm_local dtherm ida arat pln pts hwp hwp_act_\n",
      "                        window hwp_epp hwp_pkg_req pku ospke md_clear flush_l1d \n",
      "                        arch_capabilities\n",
      "Caches (sum of all):    \n",
      "  L1d:                  768 KiB (24 instances)\n",
      "  L1i:                  768 KiB (24 instances)\n",
      "  L2:                   24 MiB (24 instances)\n",
      "  L3:                   33 MiB (2 instances)\n",
      "NUMA:                   \n",
      "  NUMA node(s):         2\n",
      "  NUMA node0 CPU(s):    0-11,24-35\n",
      "  NUMA node1 CPU(s):    12-23,36-47\n",
      "Vulnerabilities:        \n",
      "  Gather data sampling: Mitigation; Microcode\n",
      "  Itlb multihit:        KVM: Mitigation: VMX unsupported\n",
      "  L1tf:                 Mitigation; PTE Inversion\n",
      "  Mds:                  Mitigation; Clear CPU buffers; SMT vulnerable\n",
      "  Meltdown:             Mitigation; PTI\n",
      "  Mmio stale data:      Mitigation; Clear CPU buffers; SMT vulnerable\n",
      "  Retbleed:             Mitigation; IBRS\n",
      "  Spec rstack overflow: Not affected\n",
      "  Spec store bypass:    Mitigation; Speculative Store Bypass disabled via prctl\n",
      "  Spectre v1:           Mitigation; usercopy/swapgs barriers and __user pointer \n",
      "                        sanitization\n",
      "  Spectre v2:           Mitigation; IBRS, IBPB conditional, STIBP conditional, R\n",
      "                        SB filling, PBRSB-eIBRS Not affected\n",
      "  Srbds:                Not affected\n",
      "  Tsx async abort:      Mitigation; Clear CPU buffers; SMT vulnerable\n"
     ]
    }
   ],
   "source": [
    "!lscpu"
   ]
  },
  {
   "cell_type": "markdown",
   "id": "c28441cd-8410-4b56-a28c-f59786576892",
   "metadata": {},
   "source": [
    "**Q1. What is your CPU model? The number of CPUs? The number of physical cores per CPU? The number of logical cores per CPU?**\n",
    "\n",
    "Intel(R) Xeon(R) Gold 5118 CPU @ 2.30GHz\n",
    "\n",
    "2 physical CPUs\n",
    "\n",
    "12 physical cores per CPU\n",
    "\n",
    "24 logical cores per CPU"
   ]
  },
  {
   "cell_type": "code",
   "execution_count": 2,
   "id": "4c3dc7f4-9f4b-4c49-bd4a-b1e15aa6f775",
   "metadata": {},
   "outputs": [
    {
     "name": "stdout",
     "output_type": "stream",
     "text": [
      "GPU 0: Tesla V100-PCIE-16GB (UUID: GPU-262e6c28-47c8-cffb-48c9-125a4ad20f9a)\n"
     ]
    }
   ],
   "source": [
    "!nvidia-smi -L"
   ]
  },
  {
   "cell_type": "markdown",
   "id": "d99d9faa-a8ef-4f41-b9bd-470c83fcfa2f",
   "metadata": {},
   "source": [
    "Q2. What is the number and model of the GPUs on your machine?\n",
    "\n",
    "One Tesla V100-PCIE-16GB"
   ]
  },
  {
   "cell_type": "code",
   "execution_count": 7,
   "id": "b5d241cb-b355-4085-9430-41f2addd3838",
   "metadata": {},
   "outputs": [
    {
     "name": "stdout",
     "output_type": "stream",
     "text": [
      "--2025-09-16 13:42:57--  https://www.labri.fr/perso/bugeau/Code/filesMDP.zip\n",
      "Resolving www.labri.fr (www.labri.fr)... 147.210.8.54, 2001:660:6101:404::1:80\n",
      "Connecting to www.labri.fr (www.labri.fr)|147.210.8.54|:443... connected.\n",
      "HTTP request sent, awaiting response... 200 OK\n",
      "Length: 420126857 (401M) [application/zip]\n",
      "Saving to: 'filesMDP.zip'\n",
      "\n",
      "filesMDP.zip         29%[====>               ] 119.62M  38.0MB/s    eta 8s     ^C\n"
     ]
    },
    {
     "ename": "BadZipFile",
     "evalue": "File is not a zip file",
     "output_type": "error",
     "traceback": [
      "\u001b[0;31m---------------------------------------------------------------------------\u001b[0m",
      "\u001b[0;31mBadZipFile\u001b[0m                                Traceback (most recent call last)",
      "Cell \u001b[0;32mIn[7], line 9\u001b[0m\n\u001b[1;32m      7\u001b[0m \u001b[38;5;28;01mif\u001b[39;00m \u001b[38;5;129;01mnot\u001b[39;00m os\u001b[38;5;241m.\u001b[39mpath\u001b[38;5;241m.\u001b[39mexists(\u001b[38;5;124m'\u001b[39m\u001b[38;5;124mfilesMDP.zip\u001b[39m\u001b[38;5;124m'\u001b[39m):\n\u001b[1;32m      8\u001b[0m     get_ipython()\u001b[38;5;241m.\u001b[39msystem(\u001b[38;5;124m'\u001b[39m\u001b[38;5;124mwget https://www.labri.fr/perso/bugeau/Code/filesMDP.zip\u001b[39m\u001b[38;5;124m'\u001b[39m)\n\u001b[0;32m----> 9\u001b[0m     \u001b[38;5;28;01mwith\u001b[39;00m \u001b[43mzipfile\u001b[49m\u001b[38;5;241;43m.\u001b[39;49m\u001b[43mZipFile\u001b[49m\u001b[43m(\u001b[49m\u001b[38;5;124;43m'\u001b[39;49m\u001b[38;5;124;43mfilesMDP.zip\u001b[39;49m\u001b[38;5;124;43m'\u001b[39;49m\u001b[43m,\u001b[49m\u001b[43m \u001b[49m\u001b[38;5;124;43m'\u001b[39;49m\u001b[38;5;124;43mr\u001b[39;49m\u001b[38;5;124;43m'\u001b[39;49m\u001b[43m)\u001b[49m \u001b[38;5;28;01mas\u001b[39;00m zip_ref:\n\u001b[1;32m     10\u001b[0m         zip_ref\u001b[38;5;241m.\u001b[39mextractall(\u001b[38;5;124m'\u001b[39m\u001b[38;5;124massets/lab01\u001b[39m\u001b[38;5;124m'\u001b[39m, pwd\u001b[38;5;241m=\u001b[39m\u001b[38;5;124mb\u001b[39m\u001b[38;5;124m'\u001b[39m\u001b[38;5;124mAI&S\u001b[39m\u001b[38;5;124m'\u001b[39m)\n",
      "File \u001b[0;32m/usr/lib/python3.10/zipfile.py:1272\u001b[0m, in \u001b[0;36mZipFile.__init__\u001b[0;34m(self, file, mode, compression, allowZip64, compresslevel, strict_timestamps)\u001b[0m\n\u001b[1;32m   1270\u001b[0m \u001b[38;5;28;01mtry\u001b[39;00m:\n\u001b[1;32m   1271\u001b[0m     \u001b[38;5;28;01mif\u001b[39;00m mode \u001b[38;5;241m==\u001b[39m \u001b[38;5;124m'\u001b[39m\u001b[38;5;124mr\u001b[39m\u001b[38;5;124m'\u001b[39m:\n\u001b[0;32m-> 1272\u001b[0m         \u001b[38;5;28;43mself\u001b[39;49m\u001b[38;5;241;43m.\u001b[39;49m\u001b[43m_RealGetContents\u001b[49m\u001b[43m(\u001b[49m\u001b[43m)\u001b[49m\n\u001b[1;32m   1273\u001b[0m     \u001b[38;5;28;01melif\u001b[39;00m mode \u001b[38;5;129;01min\u001b[39;00m (\u001b[38;5;124m'\u001b[39m\u001b[38;5;124mw\u001b[39m\u001b[38;5;124m'\u001b[39m, \u001b[38;5;124m'\u001b[39m\u001b[38;5;124mx\u001b[39m\u001b[38;5;124m'\u001b[39m):\n\u001b[1;32m   1274\u001b[0m         \u001b[38;5;66;03m# set the modified flag so central directory gets written\u001b[39;00m\n\u001b[1;32m   1275\u001b[0m         \u001b[38;5;66;03m# even if no files are added to the archive\u001b[39;00m\n\u001b[1;32m   1276\u001b[0m         \u001b[38;5;28mself\u001b[39m\u001b[38;5;241m.\u001b[39m_didModify \u001b[38;5;241m=\u001b[39m \u001b[38;5;28;01mTrue\u001b[39;00m\n",
      "File \u001b[0;32m/usr/lib/python3.10/zipfile.py:1339\u001b[0m, in \u001b[0;36mZipFile._RealGetContents\u001b[0;34m(self)\u001b[0m\n\u001b[1;32m   1337\u001b[0m     \u001b[38;5;28;01mraise\u001b[39;00m BadZipFile(\u001b[38;5;124m\"\u001b[39m\u001b[38;5;124mFile is not a zip file\u001b[39m\u001b[38;5;124m\"\u001b[39m)\n\u001b[1;32m   1338\u001b[0m \u001b[38;5;28;01mif\u001b[39;00m \u001b[38;5;129;01mnot\u001b[39;00m endrec:\n\u001b[0;32m-> 1339\u001b[0m     \u001b[38;5;28;01mraise\u001b[39;00m BadZipFile(\u001b[38;5;124m\"\u001b[39m\u001b[38;5;124mFile is not a zip file\u001b[39m\u001b[38;5;124m\"\u001b[39m)\n\u001b[1;32m   1340\u001b[0m \u001b[38;5;28;01mif\u001b[39;00m \u001b[38;5;28mself\u001b[39m\u001b[38;5;241m.\u001b[39mdebug \u001b[38;5;241m>\u001b[39m \u001b[38;5;241m1\u001b[39m:\n\u001b[1;32m   1341\u001b[0m     \u001b[38;5;28mprint\u001b[39m(endrec)\n",
      "\u001b[0;31mBadZipFile\u001b[0m: File is not a zip file"
     ]
    }
   ],
   "source": [
    "import zipfile\n",
    "import os\n",
    "\n",
    "# Download lab files\n",
    "os.makedirs('assets/lab01', exist_ok=True)\n",
    "\n",
    "if not os.path.exists('filesMDP.zip'):\n",
    "    !wget https://www.labri.fr/perso/bugeau/Code/filesMDP.zip\n",
    "    with zipfile.ZipFile('filesMDP.zip', 'r') as zip_ref:\n",
    "        zip_ref.extractall('assets/lab01', pwd=b'AI&S')"
   ]
  },
  {
   "cell_type": "code",
   "execution_count": null,
   "id": "385fc2ee-dbcb-4299-9e12-6b320dd7e6ba",
   "metadata": {},
   "outputs": [],
   "source": [
    "# Q3\n",
    "P_c_cpu = 105 # W; https://www.intel.com/content/www/us/en/products/sku/120473/intel-xeon-gold-5118-processor-16-5m-cache-2-30-ghz/specifications.html\n",
    "P_c_gpu = 250 # W; https://images.nvidia.com/content/tesla/pdf/Tesla-V100-PCIe-Product-Brief.pdf\n",
    "P_total = P_c_cpu + P_c_gpu\n",
    "P_total"
   ]
  },
  {
   "cell_type": "code",
   "execution_count": 11,
   "id": "d0d0c6b9-6cc0-4562-b7d4-333aad3459b3",
   "metadata": {},
   "outputs": [
    {
     "name": "stdout",
     "output_type": "stream",
     "text": [
      "               total        used        free      shared  buff/cache   available\n",
      "Mem:             94G        5.0G        5.6G        107M         84G         88G\n",
      "Swap:           4.1G        471M        3.6G\n"
     ]
    }
   ],
   "source": [
    "# Q4\n",
    "!free -h --si\n",
    "memory = 94  # In GB\n",
    "P_memory = memory*0.3725  # In W\n",
    "P_memory"
   ]
  },
  {
   "cell_type": "markdown",
   "id": "e18b5c05-4c21-4a14-998a-5ca86efc91c2",
   "metadata": {},
   "source": [
    "**Q5. Give some cases where real time may be greater than processing time, and vice versa.**\n",
    "\n",
    "If there are multiple processes using the same CPU, the real time will be bigger than processing time.\n",
    "\n",
    "If there is parallel execution (multiple cores active at the same time), processing time may be bigger than wall-clock time."
   ]
  },
  {
   "cell_type": "code",
   "execution_count": 2,
   "id": "efaaefae-86de-4d01-84fe-2a9ff78c0911",
   "metadata": {},
   "outputs": [
    {
     "name": "stdout",
     "output_type": "stream",
     "text": [
      "DDPM_inference.py\t\t\t   ddpm-butterflies-128\n",
      "TrainingDDPM_one_more_epoch.py\t\t   gpu_usage.sh\n",
      "TrainingDDPM_one_more_epoch_codecarbon.py\n"
     ]
    }
   ],
   "source": [
    "!ls "
   ]
  },
  {
   "cell_type": "code",
   "execution_count": 4,
   "id": "21ddcc8e-5d79-410b-b1b7-31a868548862",
   "metadata": {},
   "outputs": [
    {
     "name": "stdout",
     "output_type": "stream",
     "text": [
      "2025-09-16 09:19:39.207334: E external/local_xla/xla/stream_executor/cuda/cuda_fft.cc:467] Unable to register cuFFT factory: Attempting to register factory for plugin cuFFT when one has already been registered\n",
      "WARNING: All log messages before absl::InitializeLog() is called are written to STDERR\n",
      "E0000 00:00:1758007179.229569 1379021 cuda_dnn.cc:8579] Unable to register cuDNN factory: Attempting to register factory for plugin cuDNN when one has already been registered\n",
      "E0000 00:00:1758007179.236833 1379021 cuda_blas.cc:1407] Unable to register cuBLAS factory: Attempting to register factory for plugin cuBLAS when one has already been registered\n",
      "W0000 00:00:1758007179.255380 1379021 computation_placer.cc:177] computation placer already registered. Please check linkage and avoid linking the same target more than once.\n",
      "W0000 00:00:1758007179.255402 1379021 computation_placer.cc:177] computation placer already registered. Please check linkage and avoid linking the same target more than once.\n",
      "W0000 00:00:1758007179.255406 1379021 computation_placer.cc:177] computation placer already registered. Please check linkage and avoid linking the same target more than once.\n",
      "W0000 00:00:1758007179.255408 1379021 computation_placer.cc:177] computation placer already registered. Please check linkage and avoid linking the same target more than once.\n",
      "2025-09-16 09:19:39.260263: I tensorflow/core/platform/cpu_feature_guard.cc:210] This TensorFlow binary is optimized to use available CPU instructions in performance-critical operations.\n",
      "To enable the following instructions: AVX2 AVX512F FMA, in other operations, rebuild TensorFlow with the appropriate compiler flags.\n",
      "Repo card metadata block was not found. Setting CardData to empty.\n",
      "Detected kernel version 4.18.0, which is below the recommended minimum of 5.5.0; this can cause the process to hang. It is recommended to upgrade the kernel to the minimum version or higher.\n",
      "------------------------------------------------------\n",
      "Real Time: 26.7911 seconds\n"
     ]
    }
   ],
   "source": [
    "# First run\n",
    "!cd assets/lab01/files; python3 TrainingDDPM_one_more_epoch.py"
   ]
  },
  {
   "cell_type": "code",
   "execution_count": 5,
   "id": "348d1580-c764-4027-aa96-227313f60fe4",
   "metadata": {},
   "outputs": [
    {
     "name": "stdout",
     "output_type": "stream",
     "text": [
      "2025-09-16 09:25:06.508605: E external/local_xla/xla/stream_executor/cuda/cuda_fft.cc:467] Unable to register cuFFT factory: Attempting to register factory for plugin cuFFT when one has already been registered\n",
      "WARNING: All log messages before absl::InitializeLog() is called are written to STDERR\n",
      "E0000 00:00:1758007506.530974 1379191 cuda_dnn.cc:8579] Unable to register cuDNN factory: Attempting to register factory for plugin cuDNN when one has already been registered\n",
      "E0000 00:00:1758007506.538199 1379191 cuda_blas.cc:1407] Unable to register cuBLAS factory: Attempting to register factory for plugin cuBLAS when one has already been registered\n",
      "W0000 00:00:1758007506.556995 1379191 computation_placer.cc:177] computation placer already registered. Please check linkage and avoid linking the same target more than once.\n",
      "W0000 00:00:1758007506.557014 1379191 computation_placer.cc:177] computation placer already registered. Please check linkage and avoid linking the same target more than once.\n",
      "W0000 00:00:1758007506.557018 1379191 computation_placer.cc:177] computation placer already registered. Please check linkage and avoid linking the same target more than once.\n",
      "W0000 00:00:1758007506.557020 1379191 computation_placer.cc:177] computation placer already registered. Please check linkage and avoid linking the same target more than once.\n",
      "2025-09-16 09:25:06.561850: I tensorflow/core/platform/cpu_feature_guard.cc:210] This TensorFlow binary is optimized to use available CPU instructions in performance-critical operations.\n",
      "To enable the following instructions: AVX2 AVX512F FMA, in other operations, rebuild TensorFlow with the appropriate compiler flags.\n",
      "Repo card metadata block was not found. Setting CardData to empty.\n",
      "Detected kernel version 4.18.0, which is below the recommended minimum of 5.5.0; this can cause the process to hang. It is recommended to upgrade the kernel to the minimum version or higher.\n",
      "------------------------------------------------------\n",
      "Real Time: 21.9420 seconds\n",
      "Real Time: 21.9420 seconds\n",
      "User Time: 22.5700 seconds\n",
      "System Time: 3.4300 seconds\n"
     ]
    }
   ],
   "source": [
    "# Modify the code to measure time, run again\n",
    "# Also, I was running in another process while the training was happening:\n",
    "# print(\"psutil.cpu_percent(interval=2) = %s\" % (psutil.cpu_percent(interval=2),)); print(\"The CPU utilization of all the CPUs is: %s\" % (psutil.cpu_percent(interval=2, percpu=True), ))\n",
    "!cd assets/lab01/files; python3 TrainingDDPM_one_more_epoch.py"
   ]
  },
  {
   "cell_type": "markdown",
   "id": "6bb71ddf-fb63-466c-96d8-8198bf1d720a",
   "metadata": {},
   "source": [
    "**Q6. Run and observe the code TrainingDDPM_one_more_epoch.py. Which part of the code is measured for run time? Use the following code sample to mesure the cpu times (user time and system time).**\n",
    "\n",
    "The total time spent executing the entirety of this software (aka wall-clock time), is given by `Real Time: 21.9420 seconds`\n",
    "\n",
    "**Q7. What is the CPU approximate usage factor during training? You can use command htop while running to observe the usage of logical cores. Note that you can also use process.cpu_percent() to measure CPU usage.**\n",
    "\n",
    "the utilization across all logical cores was repeatedly measured during the script execution, using `psutil.cpu_percent(interval=2, percpu=True)`. The results usually looked like:\n",
    "```\n",
    "[58.8, 0.0, 0.0, 0.0, 0.0, 0.0, 0.0, 0.0, 0.0, 0.0, 0.0, 1.0, 0.0, 0.0, 0.0, 0.0, 0.0, 0.0, 0.0, 0.0, 0.0, 0.0, 0.0, 0.0, 55.2, 0.0, 0.0, 0.0, 0.0, 0.0, 0.0, 0.0, 0.0, 0.0, 0.0, 0.0, 0.0, 0.0, 0.0, 0.0, 0.0, 0.0, 0.0, 0.0, 0.0, 0.0, 0.0, 0.0]\n",
    "```\n",
    "So the utilization was reasonable (50~60%) for the few cores that were in use, but the was majority of them wasn't"
   ]
  },
  {
   "cell_type": "code",
   "execution_count": 8,
   "id": "41fdc7e1-f9e8-4a00-8429-2a4a209f10c1",
   "metadata": {},
   "outputs": [
    {
     "name": "stdout",
     "output_type": "stream",
     "text": [
      "Subprocess have PID=1380418\n",
      "mean gpu usage: -nan %\n"
     ]
    }
   ],
   "source": [
    "!cd assets/lab01/files; . ./gpu_usage.sh TrainingDDPM_one_more_epoch.py"
   ]
  },
  {
   "cell_type": "code",
   "execution_count": 11,
   "id": "19e24bac-c059-491b-ba29-2d73ccd33846",
   "metadata": {},
   "outputs": [
    {
     "name": "stdout",
     "output_type": "stream",
     "text": [
      "/bin/sh: 1: Syntax error: \"&&\" unexpected\n"
     ]
    }
   ],
   "source": [
    "!cd assets/lab01/files; python TrainingDDPM_one_more_epoch.py& && pypid=$! && echo \"Subprocess have PID=$pypid\" && wait $pypid"
   ]
  },
  {
   "cell_type": "code",
   "execution_count": null,
   "id": "fdb43e69-3b01-4993-bf00-39b81b91baca",
   "metadata": {},
   "outputs": [],
   "source": []
  }
 ],
 "metadata": {
  "kernelspec": {
   "display_name": "Python 3 (ipykernel)",
   "language": "python",
   "name": "python3"
  },
  "language_info": {
   "codemirror_mode": {
    "name": "ipython",
    "version": 3
   },
   "file_extension": ".py",
   "mimetype": "text/x-python",
   "name": "python",
   "nbconvert_exporter": "python",
   "pygments_lexer": "ipython3",
   "version": "3.10.12"
  }
 },
 "nbformat": 4,
 "nbformat_minor": 5
}
